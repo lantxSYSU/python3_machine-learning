{
 "cells": [
  {
   "cell_type": "code",
   "execution_count": 2,
   "metadata": {},
   "outputs": [
    {
     "name": "stdout",
     "output_type": "stream",
     "text": [
      "jim\n"
     ]
    }
   ],
   "source": [
    "student = ('jim', 16, 'male', 'jim@qq.com')\n",
    "\n",
    "#name\n",
    "print(student[0])\n",
    "\n",
    "#age\n",
    "if student[1] >= 18:\n",
    "    pass\n",
    "\n",
    "#sex \n",
    "if student[2] == 'male':\n",
    "    pass"
   ]
  },
  {
   "cell_type": "heading",
   "metadata": {},
   "level": 1,
   "source": [
    "如何为元组中每个元素命名"
   ]
  },
  {
   "cell_type": "code",
   "execution_count": 3,
   "metadata": {},
   "outputs": [
    {
     "data": {
      "text/plain": [
       "16"
      ]
     },
     "execution_count": 3,
     "metadata": {},
     "output_type": "execute_result"
    }
   ],
   "source": [
    "#方案1 定义索引\n",
    "# NAME = 0\n",
    "# AGE = 1\n",
    "# SEX = 2\n",
    "NAME, AGE, SEX, EMAIL = range(4)\n",
    "student[NAME]\n",
    "student[AGE]\n",
    "#..."
   ]
  },
  {
   "cell_type": "code",
   "execution_count": 11,
   "metadata": {},
   "outputs": [
    {
     "name": "stdout",
     "output_type": "stream",
     "text": [
      "student(name='jim', age=16, sex='male', email='jim@qq.com')\nstudent(name='jim', age=16, sex='male', email='jim@qq.com')\n"
     ]
    }
   ],
   "source": [
    "#方案2 使用标准库中collections.namedtuple 替代内置tuple\n",
    "from collections import namedtuple\n",
    "\n",
    "Student = namedtuple('student', ['name', 'age', 'sex', 'email'])\n",
    "\n",
    "s1 = Student('jim', 16, 'male', 'jim@qq.com')\n",
    "\n",
    "s2 = Student(name='jim', age=16, sex='male', email='jim@qq.com')\n",
    "\n",
    "print(s1)\n",
    "print(s2)"
   ]
  },
  {
   "cell_type": "code",
   "execution_count": 12,
   "metadata": {},
   "outputs": [
    {
     "data": {
      "text/plain": [
       "'jim'"
      ]
     },
     "execution_count": 12,
     "metadata": {},
     "output_type": "execute_result"
    }
   ],
   "source": [
    "s1.name"
   ]
  },
  {
   "cell_type": "code",
   "execution_count": 13,
   "metadata": {},
   "outputs": [
    {
     "data": {
      "text/plain": [
       "True"
      ]
     },
     "execution_count": 13,
     "metadata": {},
     "output_type": "execute_result"
    }
   ],
   "source": [
    "isinstance(s1, tuple)"
   ]
  },
  {
   "cell_type": "code",
   "execution_count": null,
   "metadata": {},
   "outputs": [],
   "source": [
    ""
   ]
  }
 ],
 "metadata": {},
 "nbformat": 4,
 "nbformat_minor": 0
}